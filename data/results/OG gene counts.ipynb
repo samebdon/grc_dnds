{
 "cells": [
  {
   "cell_type": "code",
   "execution_count": 99,
   "id": "d1a676e9",
   "metadata": {},
   "outputs": [],
   "source": [
    "import pandas as pd\n",
    "import numpy as np"
   ]
  },
  {
   "cell_type": "code",
   "execution_count": 100,
   "id": "729e554e",
   "metadata": {},
   "outputs": [],
   "source": [
    "df = pd.read_csv('Orthogroups.GeneCount.tsv', sep='\\t')"
   ]
  },
  {
   "cell_type": "code",
   "execution_count": 170,
   "id": "41e528a9",
   "metadata": {},
   "outputs": [],
   "source": [
    "grcs = ['bcop_grc', 'bimp_grc', 'ling_grc']\n",
    "cores = ['aaphi','bcop_core','bimp_core','contarinia','dmel','ling_core','orobi']#, 'phyg']\n",
    "df['core_SCO'] = (df.loc[:,cores]==1).sum(axis=1)==df.loc[:,cores].shape[1]\n",
    "df['all_SCO'] = (df.loc[:,cores+grcs]==1).sum(axis=1)==df.loc[:,cores+grcs].shape[1]\n",
    "df['grc_genome_presence_count'] = (df[grcs]>0).sum(axis=1)"
   ]
  },
  {
   "cell_type": "code",
   "execution_count": 174,
   "id": "5d391500",
   "metadata": {},
   "outputs": [
    {
     "name": "stdout",
     "output_type": "stream",
     "text": [
      "There are 18984 orthogroups\n",
      "There are 3888 core genome SCOs\n",
      "There are 122 SCOs across all genomes\n",
      "\n",
      "\n",
      "There are 767 core genome SCOs with at least 1 ortholog in 0 GRC genome(s)\n",
      "There are 1549 core genome SCOs with at least 1 ortholog in 1 GRC genome(s)\n",
      "There are 1268 core genome SCOs with at least 1 ortholog in 2 GRC genome(s)\n",
      "There are 304 core genome SCOs with at least 1 ortholog in 3 GRC genome(s)\n",
      "\n",
      "\n",
      "There are 710 core genome SCOs with at least one ortholog in both 'bcop_grc' and 'bimp_grc'\n",
      "There are 399 core genome SCOs with at least one ortholog in both 'bimp_grc' and 'ling_grc'\n",
      "There are 1071 core genome SCOs with at least one ortholog in both 'bcop_grc' and 'ling_grc'\n",
      "\n",
      "\n",
      "There are 1477 core genome SCOs that have 1 copy in 'bcop_grc'\n",
      "There are 854 core genome SCOs that have 1 copy in 'bimp_grc'\n",
      "There are 1166 core genome SCOs that have 1 copy in 'ling_grc'\n",
      "\n",
      "\n",
      "There are 341 core genome SCOs that are also SCOs in both 'bcop_grc' and 'bimp_grc'\n",
      "There are 276 core genome SCOs that are also SCOs in both 'bimp_grc' and 'ling_grc'\n",
      "There are 499 core genome SCOs that are also SCOs in both 'bcop_grc' and 'ling_grc'\n"
     ]
    }
   ],
   "source": [
    "print(f\"There are {df.shape[0]} orthogroups\")\n",
    "print(f\"There are {np.sum(df['core_SCO'])} core genome SCOs\")\n",
    "print(f\"There are {np.sum(df['all_SCO'])} SCOs across all genomes\")\n",
    "\n",
    "print(\"\\n\")\n",
    "\n",
    "for n_genomes, n_orthogroups in df[df['core_SCO']==True]['grc_genome_presence_count'].value_counts().sort_index().iteritems():\n",
    "    print(f\"There are {n_orthogroups} core genome SCOs with at least 1 ortholog in {n_genomes} GRC genome(s)\")\n",
    "\n",
    "print(\"\\n\")    \n",
    "\n",
    "print(f\"There are {(df[df['core_SCO']==True][grcs[0:2]]>0).sum(axis=1).value_counts()[2]} core genome SCOs\\\n",
    " with at least one ortholog in both 'bcop_grc' and 'bimp_grc'\")\n",
    "print(f\"There are {(df[df['core_SCO']==True][grcs[1:3]]>0).sum(axis=1).value_counts()[2]} core genome SCOs\\\n",
    " with at least one ortholog in both 'bimp_grc' and 'ling_grc'\")\n",
    "print(f\"There are {(df[df['core_SCO']==True][['bcop_grc','ling_grc']]>0).sum(axis=1).value_counts()[2]} core genome SCOs\\\n",
    " with at least one ortholog in both 'bcop_grc' and 'ling_grc'\")\n",
    "\n",
    "print(\"\\n\")    \n",
    "\n",
    "print(f\"There are {(df[df['core_SCO']==True]['bcop_grc']==1).sum()} core genome SCOs\\\n",
    " that have 1 copy in 'bcop_grc'\")\n",
    "print(f\"There are {(df[df['core_SCO']==True]['bimp_grc']==1).sum()} core genome SCOs\\\n",
    " that have 1 copy in 'bimp_grc'\")\n",
    "print(f\"There are {(df[df['core_SCO']==True]['ling_grc']==1).sum()} core genome SCOs\\\n",
    " that have 1 copy in 'ling_grc'\")\n",
    "\n",
    "print(\"\\n\")    \n",
    "\n",
    "print(f\"There are {(df[df['core_SCO']==True][grcs[0:2]]==1).sum(axis=1).value_counts()[2]} core genome SCOs\\\n",
    " that are also SCOs in both 'bcop_grc' and 'bimp_grc'\")\n",
    "print(f\"There are {(df[df['core_SCO']==True][grcs[1:3]]==1).sum(axis=1).value_counts()[2]} core genome SCOs\\\n",
    " that are also SCOs in both 'bimp_grc' and 'ling_grc'\")\n",
    "print(f\"There are {(df[df['core_SCO']==True][['bcop_grc','ling_grc']]==1).sum(axis=1).value_counts()[2]} core genome SCOs\\\n",
    " that are also SCOs in both 'bcop_grc' and 'ling_grc'\")"
   ]
  },
  {
   "cell_type": "code",
   "execution_count": 172,
   "id": "b4ec8689",
   "metadata": {},
   "outputs": [
    {
     "name": "stdout",
     "output_type": "stream",
     "text": [
      "There are 4085 core genome SCOs excluding aaphi\n",
      "There are 4168 core genome SCOs excluding bcop_core\n",
      "There are 4111 core genome SCOs excluding bimp_core\n",
      "There are 4128 core genome SCOs excluding contarinia\n",
      "There are 4514 core genome SCOs excluding dmel\n",
      "There are 4095 core genome SCOs excluding ling_core\n",
      "There are 4294 core genome SCOs excluding orobi\n"
     ]
    }
   ],
   "source": [
    "for drop_genome in cores:\n",
    "    remaining_cores = [genome for genome in cores if genome not in [drop_genome]]\n",
    "    count = (df.loc[:,remaining_cores]==1).sum(axis=1)==df.loc[:,remaining_cores].shape[1]\n",
    "    print(f\"There are {np.sum(count)} core genome SCOs excluding {drop_genome}\")"
   ]
  },
  {
   "cell_type": "code",
   "execution_count": 173,
   "id": "29731bfc",
   "metadata": {},
   "outputs": [
    {
     "name": "stdout",
     "output_type": "stream",
     "text": [
      "There are 4085 core genome SCOs excluding aaphi and 'phyg'\n",
      "There are 4168 core genome SCOs excluding bcop_core and 'phyg'\n",
      "There are 4111 core genome SCOs excluding bimp_core and 'phyg'\n",
      "There are 4128 core genome SCOs excluding contarinia and 'phyg'\n",
      "There are 4514 core genome SCOs excluding dmel and 'phyg'\n",
      "There are 4095 core genome SCOs excluding ling_core and 'phyg'\n",
      "There are 4294 core genome SCOs excluding orobi and 'phyg'\n"
     ]
    }
   ],
   "source": [
    "for drop_genome in cores:\n",
    "    remaining_cores = [genome for genome in cores if genome not in [drop_genome, 'phyg']]\n",
    "    count = (df.loc[:,remaining_cores]==1).sum(axis=1)==df.loc[:,remaining_cores].shape[1]\n",
    "    print(f\"There are {np.sum(count)} core genome SCOs excluding {drop_genome} and 'phyg'\")"
   ]
  },
  {
   "cell_type": "code",
   "execution_count": 166,
   "id": "7299e4cf",
   "metadata": {},
   "outputs": [
    {
     "data": {
      "text/plain": [
       "1246"
      ]
     },
     "execution_count": 166,
     "metadata": {},
     "output_type": "execute_result"
    }
   ],
   "source": [
    "# I think including Pseudolycoriella hygida (phyg) is not helping, excluding it takes us up to 3888 and its internal, \n",
    "# prob just poor genome\n",
    "# Excluding dmel takes up to 4500, makes sense cos deepest split and its the outgroup\n",
    "# Have a quick look at analyse_alignments_v2.R since its run before this step\n",
    "# This lines up with Fede saying :\n",
    "# Regarding completeness, we can see much lower quality gene predictions for GRCs and Pseudolycoriella. \n",
    "# But we are interested in GRCs, are we interested in Pseudolycoriella?"
   ]
  },
  {
   "cell_type": "code",
   "execution_count": 176,
   "id": "87b13143",
   "metadata": {},
   "outputs": [
    {
     "data": {
      "text/plain": [
       "0        OG0000000\n",
       "1        OG0000001\n",
       "2        OG0000002\n",
       "3        OG0000003\n",
       "4        OG0000004\n",
       "           ...    \n",
       "18979    OG0018979\n",
       "18980    OG0018980\n",
       "18981    OG0018981\n",
       "18982    OG0018982\n",
       "18983    OG0018983\n",
       "Name: Orthogroup, Length: 18984, dtype: object"
      ]
     },
     "execution_count": 176,
     "metadata": {},
     "output_type": "execute_result"
    }
   ],
   "source": [
    "df['Orthogroup']"
   ]
  },
  {
   "cell_type": "code",
   "execution_count": null,
   "id": "9a7840dd",
   "metadata": {},
   "outputs": [],
   "source": []
  }
 ],
 "metadata": {
  "kernelspec": {
   "display_name": "Python 3",
   "language": "python",
   "name": "python3"
  },
  "language_info": {
   "codemirror_mode": {
    "name": "ipython",
    "version": 3
   },
   "file_extension": ".py",
   "mimetype": "text/x-python",
   "name": "python",
   "nbconvert_exporter": "python",
   "pygments_lexer": "ipython3",
   "version": "3.6.15"
  }
 },
 "nbformat": 4,
 "nbformat_minor": 5
}
